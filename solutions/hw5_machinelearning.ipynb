{
 "cells": [
  {
   "cell_type": "markdown",
   "id": "ddcce680",
   "metadata": {
    "nbgrader": {
     "grade": false,
     "grade_id": "cell-b1217afff8bc58c2",
     "locked": true,
     "schema_version": 3,
     "solution": false,
     "task": false
    }
   },
   "source": [
    "## Assignment 5: Machine learning\n",
    "\n",
    "In this assignment, we'll practice the classification skills from machine learning. We'll use the precinct-level voting data to predict support for Prop 21 (rent control) on the 2020 ballot.\n",
    "\n",
    "(1) Start by loading the 2020 elections results from LA County into a `pandas` dataframe, `voteDf` (This is exactly the same data as we used in class; I put another copy of the data file in the assignment GitHub folder to make things easier.)"
   ]
  },
  {
   "cell_type": "code",
   "execution_count": 4,
   "id": "9f4f8fa1",
   "metadata": {
    "nbgrader": {
     "grade": false,
     "grade_id": "cell-2ff091f01ca8b647",
     "locked": false,
     "schema_version": 3,
     "solution": true,
     "task": false
    }
   },
   "outputs": [
    {
     "name": "stdout",
     "output_type": "stream",
     "text": [
      "4313\n",
      "   county    srprec  addist  cddist  sddist  bedist  TOTREG  DEMREG  REPREG  \\\n",
      "0      19  0050005A      36      25      21       1    1974       0       0   \n",
      "1      19  0050014A      36      25      21       1     697       0       0   \n",
      "2      19  0050022A      36      27      25       1      61       0       0   \n",
      "3      19  0050024A      41      27      25       1       0       0       0   \n",
      "4      19  0050025A      36      25      25       1       5       0       0   \n",
      "\n",
      "   AIPREG  ...  PR_23_Y  PR_24_N  PR_24_Y  PR_25_N  PR_25_Y  SENAIP01  \\\n",
      "0       0  ...      430      945      771     1304      398         0   \n",
      "1       0  ...      100      314      223      427      116         0   \n",
      "2       0  ...       10       27       22       35       15         0   \n",
      "3       0  ...        0        0        0        0        0         0   \n",
      "4       0  ...        1        2        3        1        3         0   \n",
      "\n",
      "   SENDEM01  SENDEM02  SENLIB01  SENREP01  \n",
      "0       524         0         0      1197  \n",
      "1       163         0         0       373  \n",
      "2        20         0         0        33  \n",
      "3         0         0         0         0  \n",
      "4         2         0         0         3  \n",
      "\n",
      "[5 rows x 73 columns]\n"
     ]
    }
   ],
   "source": [
    "import pandas as pd\n",
    "\n",
    "voteDf = 999 # replace with your dataframe\n",
    "\n",
    "### BEGIN SOLUTION\n",
    "fn = 'c037_g20_sov_data_by_g20_srprec.csv'\n",
    "voteDf = pd.read_csv(fn)\n",
    "### END SOLUTION\n",
    "print(len(voteDf))\n",
    "print(voteDf.head())"
   ]
  },
  {
   "cell_type": "code",
   "execution_count": 5,
   "id": "d55c4df1",
   "metadata": {
    "nbgrader": {
     "grade": true,
     "grade_id": "cell-82c4c318b68ac93b",
     "locked": true,
     "points": 1,
     "schema_version": 3,
     "solution": false,
     "task": false
    }
   },
   "outputs": [],
   "source": [
    "# Autograding tests - do not edit\n",
    "assert len(voteDf) == 4313\n",
    "assert isinstance(voteDf, pd.DataFrame)"
   ]
  },
  {
   "cell_type": "markdown",
   "id": "4c4ff214",
   "metadata": {
    "nbgrader": {
     "grade": false,
     "grade_id": "cell-8e73935274cd6bac",
     "locked": true,
     "schema_version": 3,
     "solution": false,
     "task": false
    }
   },
   "source": [
    "(2) To do some prediction, we'll want to add variables from (say) the census or other sources.\n",
    "For that, we need the lookup file that matches precincts to census blocks and tracts. [You can find it here](https://statewidedatabase.org/d10/g20_geo_conv.html), or just use the file `c037_g20_sr_blk_map.csv` in your GitHub repository. (Note that there are several types of precincts; the ones that we are using here are called `srprec`. \n",
    "\n",
    "Create a new dataframe, `voteDf2`, that has the vote counts (for all of the propositions and other races) aggregated to census tract.\n",
    "\n",
    "*Hints:* This is a multi-stage process. Note that each precinct covers many census blocks. The `pctsrprec` column tells you how much of the precinct lies within that block. For example, in the first few rows of `c037_g20_sr_blk_map.csv`, you'll see 49 different rows for precint `0050003A`, each matching to a different census block, with the `pctsrprec` column adding up to 100.\n",
    "\n",
    "So my suggestions are to:\n",
    "- load in the lookup data into a new dataframe, `lookupdf`\n",
    "- join the voting dataframe to the lookup dataframe using `srprec`, to create a new dataframe called `tmpjoin`. This is a 1:many join, since there are many census blocks per precinct. I suggest doing an inner join, as the Null values are not going to be useful to us.\n",
    "- calculate the number of votes per census block, by multiplying each column of your voting data file by `pctsrprec` and dividing by 100. (You could do this in a `for` loop.) In other words, allocate the votes in a given precinct across the census blocks.\n",
    "- add up the number of votes per census tract, using a `groupby`. (Note that you can do groupby with lots of different columns. E.g., `tmpjoin.groupby('tract')[['col1','col2','col3']].sum()` will give you the tract-level sums for columns called `col1`, `col2`, and `col3`, for example.)"
   ]
  },
  {
   "cell_type": "code",
   "execution_count": 6,
   "id": "5035f4b3",
   "metadata": {
    "nbgrader": {
     "grade": false,
     "grade_id": "cell-c7ed8bd92abd47ef",
     "locked": false,
     "schema_version": 3,
     "solution": true,
     "task": false
    }
   },
   "outputs": [
    {
     "name": "stdout",
     "output_type": "stream",
     "text": [
      "4338080.999356696\n",
      "2338\n",
      "1672624.9997607488\n"
     ]
    }
   ],
   "source": [
    "fn2 = 'c037_g20_sr_blk_map.csv'\n",
    "\n",
    "voteDf2 = 999 # your code here\n",
    "\n",
    "### BEGIN SOLUTION\n",
    "lookupdf = pd.read_csv(fn2)\n",
    "\n",
    "# left join to our voting data\n",
    "tmpjoin = voteDf.set_index('srprec').join(lookupdf.set_index('srprec'), how='inner')\n",
    "\n",
    "# get list of columns from the original dataframe, excluding the ones that aren't about voting\n",
    "cols = [col for col in voteDf.columns if col not in ['county','srprec','addist', 'cddist','sddist','bedist']]\n",
    "\n",
    "# number of votes per block\n",
    "for col in cols:\n",
    "    tmpjoin[col] = tmpjoin[col] * tmpjoin.pctsrprec / 100\n",
    "\n",
    "# aggregate to census tract\n",
    "voteDf2 = tmpjoin.groupby('tract')[cols].sum()\n",
    "\n",
    "### END SOLUTION\n",
    "voteDf2.head()\n",
    "print(voteDf2.TOTVOTE.sum())\n",
    "print(len(voteDf2))\n",
    "print(voteDf2.PR_23_Y.sum())"
   ]
  },
  {
   "cell_type": "code",
   "execution_count": 7,
   "id": "6a8c0926",
   "metadata": {
    "nbgrader": {
     "grade": true,
     "grade_id": "cell-d616b48580427e62",
     "locked": true,
     "points": 1,
     "schema_version": 3,
     "solution": false,
     "task": false
    }
   },
   "outputs": [],
   "source": [
    "# Autograding tests - do not edit\n",
    "assert len(voteDf2)==2338\n",
    "assert voteDf2.TOTVOTE.sum().round() == 4338081\n",
    "assert voteDf2.PR_23_Y.sum().round() == 1672625"
   ]
  },
  {
   "cell_type": "markdown",
   "id": "69cbec5b",
   "metadata": {
    "nbgrader": {
     "grade": false,
     "grade_id": "cell-5d1fa0f9a1e656b7",
     "locked": true,
     "schema_version": 3,
     "solution": false,
     "task": false
    }
   },
   "source": [
    "(3) Now let's get a dataframe of some relevant census variables, using `cenpy`. Check back to the Week 1 example and the first homework.\n",
    "\n",
    "Create a dataframe, `censusDf`, with ACS 2017 tract-level data for LA County, and variables for Tenure (B25003_001E, B25003_002E, B25003_003E) and median household income (B19013_001E). Add a column with the percent of renters, called `pct_renter`.\n",
    "\n",
    "You can also rename the median HH income column to something more meaningful.\n",
    "\n",
    "*Hint:* Use the `from_county()` function in `cenpy`, which accepts a list of variables. You can see the definitions of these variables with \n",
    "\n",
    "```\n",
    "acs = cenpy.products.ACS()\n",
    "acs.filter_variables(variable_name)\n",
    "```"
   ]
  },
  {
   "cell_type": "code",
   "execution_count": 8,
   "id": "6b16ca9b",
   "metadata": {
    "nbgrader": {
     "grade": false,
     "grade_id": "cell-087a1df3d3eb51b0",
     "locked": false,
     "schema_version": 3,
     "solution": true,
     "task": false
    }
   },
   "outputs": [
    {
     "name": "stderr",
     "output_type": "stream",
     "text": [
      "/Users/adammb/anaconda3/envs/urbandatascience/lib/python3.8/site-packages/pyproj/crs/crs.py:53: FutureWarning: '+init=<authority>:<code>' syntax is deprecated. '<authority>:<code>' is the preferred initialization method. When making the change, be mindful of axis order changes: https://pyproj4.github.io/pyproj/stable/gotchas.html#axis-order-changes-in-proj-6\n",
      "  return _prepare_from_string(\" \".join(pjargs))\n"
     ]
    },
    {
     "name": "stdout",
     "output_type": "stream",
     "text": [
      "2346\n",
      "53.0\n"
     ]
    }
   ],
   "source": [
    "import cenpy\n",
    "from cenpy import products\n",
    "censusDf = 999 # your code here\n",
    "\n",
    "### BEGIN SOLUTION\n",
    "\n",
    "# create a connection to the American Community Survey\n",
    "acs = cenpy.products.ACS()\n",
    "\n",
    "# get tract-level data\n",
    "censusDf = products.ACS(2017).from_county('Los Angeles, CA', level='tract',\n",
    "                                        variables=['B25003_001E', 'B25003_002E', 'B25003_003E','B19013_001E'] )\n",
    "censusDf['pct_renter'] = censusDf['B25003_003E'] / censusDf['B25003_001E'] * 100\n",
    "\n",
    "censusDf.rename(columns={'B19013_001E':'med_hh_income'}, inplace=True)\n",
    "\n",
    "### END SOLUTION\n",
    "\n",
    "print (len(censusDf))\n",
    "print (censusDf.pct_renter.mean().round())"
   ]
  },
  {
   "cell_type": "code",
   "execution_count": 9,
   "id": "58482987",
   "metadata": {
    "nbgrader": {
     "grade": true,
     "grade_id": "cell-2d674b4f0e57e6dc",
     "locked": true,
     "points": 1,
     "schema_version": 3,
     "solution": false,
     "task": false
    }
   },
   "outputs": [],
   "source": [
    "# Autograding tests - do not edit\n",
    "assert len(censusDf) == 2346\n",
    "assert censusDf.pct_renter.mean().round() == 53"
   ]
  },
  {
   "cell_type": "markdown",
   "id": "e8146828",
   "metadata": {
    "nbgrader": {
     "grade": false,
     "grade_id": "cell-10df2e93cc4cd1f2",
     "locked": true,
     "schema_version": 3,
     "solution": false,
     "task": false
    }
   },
   "source": [
    "(4) Create a new dataframe, `joinedDf`, with both your voting and census data. \n",
    "\n",
    "*Hint*: It will be easiest to join on the `tract` column (which is your index in `voteDf2`). Since everything is in LA County, you don't need to worry about the `state` or `county` fields.\n",
    "\n",
    "*Hint*: You'll need to convert the `tract` column in `censusDf` to an integer first."
   ]
  },
  {
   "cell_type": "code",
   "execution_count": 10,
   "id": "cd78c1fd",
   "metadata": {
    "nbgrader": {
     "grade": false,
     "grade_id": "cell-7826b19a96730b22",
     "locked": false,
     "schema_version": 3,
     "solution": true,
     "task": false
    }
   },
   "outputs": [
    {
     "name": "stdout",
     "output_type": "stream",
     "text": [
      "2317\n",
      "53.35111987660517\n"
     ]
    }
   ],
   "source": [
    "joinedDf = 9999\n",
    "\n",
    "### BEGIN SOLUTION\n",
    "censusDf['tract'] = censusDf.tract.astype(int)\n",
    "joinedDf = voteDf2.join(censusDf.set_index('tract'))\n",
    "### END SOLUTION\n",
    "\n",
    "print(joinedDf.pct_renter.count())\n",
    "print(joinedDf.pct_renter.mean())"
   ]
  },
  {
   "cell_type": "code",
   "execution_count": 11,
   "id": "49062cce",
   "metadata": {
    "nbgrader": {
     "grade": true,
     "grade_id": "cell-1cd1c76f5b8264c9",
     "locked": true,
     "points": 1,
     "schema_version": 3,
     "solution": false,
     "task": false
    }
   },
   "outputs": [],
   "source": [
    "# Autograding tests - do not edit\n",
    "assert joinedDf.pct_renter.count() == 2317\n",
    "assert joinedDf.pct_renter.mean().round() == 53"
   ]
  },
  {
   "cell_type": "markdown",
   "id": "1ccab3db",
   "metadata": {
    "nbgrader": {
     "grade": false,
     "grade_id": "cell-0473e50f37e6f3ba",
     "locked": true,
     "schema_version": 3,
     "solution": false,
     "task": false
    }
   },
   "source": [
    "(5) Let's start with a simple random forests model with the following *x* variables:\n",
    "\n",
    "* Median HH income\n",
    "* Percent of HHs that are renters\n",
    "* Presidential vote (2-party share of Democrat voters, i.e. the percent voting for Biden vs Trump, with other candidates ignored)\n",
    "\n",
    "And the following *y* variable\n",
    "* Percent of voters voting for Prop 21\n",
    "\n",
    "Create the relevant columns, `pct_biden` and `pct_yes_21`, in your `joinedDf` dataframe. Then split your dataframe into a training sample (75%) and a test sample (25%). *Hint*: Drop the `NaNs` first."
   ]
  },
  {
   "cell_type": "code",
   "execution_count": 12,
   "id": "00189327",
   "metadata": {
    "nbgrader": {
     "grade": false,
     "grade_id": "cell-f292cd5bba490d15",
     "locked": false,
     "schema_version": 3,
     "solution": true,
     "task": false
    }
   },
   "outputs": [
    {
     "name": "stdout",
     "output_type": "stream",
     "text": [
      "1729\n",
      "577\n",
      "74.3725938469049\n"
     ]
    }
   ],
   "source": [
    "# your code here\n",
    "X_train, X_test, y_train, y_test = 999, 999, 999, 999\n",
    "\n",
    "### BEGIN SOLUTION\n",
    "joinedDf['pct_biden'] = joinedDf.PRSDEM01 / (joinedDf.PRSDEM01 + joinedDf.PRSREP01) * 100\n",
    "joinedDf['pct_yes_21'] = joinedDf.PR_21_Y / (joinedDf.PR_21_Y + joinedDf.PR_21_N) * 100\n",
    "xvars = ['pct_biden', 'pct_renter', 'med_hh_income']\n",
    "yvar = 'pct_yes_21'\n",
    "\n",
    "df_to_fit  = joinedDf[xvars+[yvar]].dropna()\n",
    "\n",
    "from sklearn.model_selection import train_test_split\n",
    "X_train, X_test, y_train, y_test = train_test_split(df_to_fit[xvars], df_to_fit[yvar], test_size = 0.25)\n",
    "### END SOLUTION\n",
    "\n",
    "print(len(X_train))\n",
    "print(len(X_test))\n",
    "print(X_train.pct_biden.mean())"
   ]
  },
  {
   "cell_type": "code",
   "execution_count": 13,
   "id": "37924f00",
   "metadata": {
    "nbgrader": {
     "grade": true,
     "grade_id": "cell-51a28332d08e392f",
     "locked": true,
     "points": 1,
     "schema_version": 3,
     "solution": false,
     "task": false
    }
   },
   "outputs": [],
   "source": [
    "# Autograding tests - do not edit\n",
    "assert len(X_train) == 1729\n",
    "assert len(X_train.columns) == 3\n",
    "assert len(X_test) == 577\n",
    "assert len(X_train) == len(y_train)\n",
    "assert len(X_test) == len(y_test)"
   ]
  },
  {
   "cell_type": "markdown",
   "id": "e2a095a7",
   "metadata": {
    "nbgrader": {
     "grade": false,
     "grade_id": "cell-da525eb9a304953d",
     "locked": true,
     "schema_version": 3,
     "solution": false,
     "task": false
    }
   },
   "source": [
    "(6) Estimate a random forests model, and assign the predicted *y* values from your *test* sample to `y_pred`.\n",
    "\n",
    "Note that the *y*-variable (`pct_yes_21`) is continuous. So rather than a classification problem, we are trying to predict a continuous variable. For this we can use `RandomForestRegressor`, which works very similarly to `RandomForestClassifier`. You can follow exactly the same steps: create the `rf` object, fit the model, and predict using the test sample."
   ]
  },
  {
   "cell_type": "code",
   "execution_count": 14,
   "id": "98afd7b7",
   "metadata": {
    "nbgrader": {
     "grade": false,
     "grade_id": "cell-18655f54613bacb6",
     "locked": false,
     "schema_version": 3,
     "solution": true,
     "task": false
    }
   },
   "outputs": [
    {
     "name": "stdout",
     "output_type": "stream",
     "text": [
      "577\n",
      "51.12859956884636\n"
     ]
    }
   ],
   "source": [
    "from sklearn.ensemble import RandomForestRegressor \n",
    "\n",
    "### BEGIN SOLUTION\n",
    "\n",
    "# initialize the random forest regressor object\n",
    "rf = RandomForestRegressor(n_estimators = 50)\n",
    "\n",
    "# now fit the model\n",
    "rf.fit(X_train, y_train)\n",
    "\n",
    "# predict values\n",
    "y_pred = rf.predict(X_test)\n",
    "\n",
    "### END SOLUTION\n",
    "\n",
    "print(len(y_pred))\n",
    "print(y_pred.mean())"
   ]
  },
  {
   "cell_type": "code",
   "execution_count": 15,
   "id": "1ba581a2",
   "metadata": {
    "nbgrader": {
     "grade": true,
     "grade_id": "cell-633c221bbc5dda5e",
     "locked": true,
     "points": 1,
     "schema_version": 3,
     "solution": false,
     "task": false
    }
   },
   "outputs": [
    {
     "ename": "AssertionError",
     "evalue": "",
     "output_type": "error",
     "traceback": [
      "\u001b[0;31m---------------------------------------------------------------------------\u001b[0m",
      "\u001b[0;31mAssertionError\u001b[0m                            Traceback (most recent call last)",
      "\u001b[0;32m<ipython-input-15-d057c811c3ab>\u001b[0m in \u001b[0;36m<module>\u001b[0;34m\u001b[0m\n\u001b[1;32m      1\u001b[0m \u001b[0;31m# Autograding tests - do not edit\u001b[0m\u001b[0;34m\u001b[0m\u001b[0;34m\u001b[0m\u001b[0;34m\u001b[0m\u001b[0m\n\u001b[1;32m      2\u001b[0m \u001b[0;32massert\u001b[0m \u001b[0mlen\u001b[0m\u001b[0;34m(\u001b[0m\u001b[0my_pred\u001b[0m\u001b[0;34m)\u001b[0m\u001b[0;34m==\u001b[0m\u001b[0mlen\u001b[0m\u001b[0;34m(\u001b[0m\u001b[0my_test\u001b[0m\u001b[0;34m)\u001b[0m\u001b[0;34m\u001b[0m\u001b[0;34m\u001b[0m\u001b[0m\n\u001b[0;32m----> 3\u001b[0;31m \u001b[0;32massert\u001b[0m \u001b[0my_pred\u001b[0m\u001b[0;34m.\u001b[0m\u001b[0mmean\u001b[0m\u001b[0;34m(\u001b[0m\u001b[0;34m)\u001b[0m\u001b[0;34m.\u001b[0m\u001b[0mround\u001b[0m\u001b[0;34m(\u001b[0m\u001b[0;34m)\u001b[0m \u001b[0;32min\u001b[0m \u001b[0;34m[\u001b[0m\u001b[0;36m52\u001b[0m\u001b[0;34m,\u001b[0m\u001b[0;36m53\u001b[0m\u001b[0;34m]\u001b[0m\u001b[0;34m\u001b[0m\u001b[0;34m\u001b[0m\u001b[0m\n\u001b[0m",
      "\u001b[0;31mAssertionError\u001b[0m: "
     ]
    }
   ],
   "source": [
    "# Autograding tests - do not edit\n",
    "assert len(y_pred)==len(y_test)\n",
    "assert y_pred.mean().round() in [52,53]"
   ]
  },
  {
   "cell_type": "markdown",
   "id": "0b4319c7",
   "metadata": {
    "nbgrader": {
     "grade": false,
     "grade_id": "cell-907f10cfdc92c141",
     "locked": true,
     "schema_version": 3,
     "solution": false,
     "task": false
    }
   },
   "source": [
    "(7) Let's look at some measures of fit. Since we have a continuous variable, we can't use the confusion matrix.\n",
    "\n",
    "But we can look at the absolute error (each predicted value minus the true value for each of our test precincts). I.e., `abs(y_pred-y_test)` \n",
    "\n",
    "What's the mean absolute error? Assign it to a new variable, `mean_abs_error`.\n",
    "We can also plot the predicted values against the true values."
   ]
  },
  {
   "cell_type": "code",
   "execution_count": null,
   "id": "da2c942a",
   "metadata": {
    "nbgrader": {
     "grade": false,
     "grade_id": "cell-c73405d47229d9c2",
     "locked": false,
     "schema_version": 3,
     "solution": true,
     "task": false
    }
   },
   "outputs": [],
   "source": [
    "mean_abs_error = 999 # your code here\n",
    "\n",
    "### BEGIN SOLUTION\n",
    "mean_abs_error = abs(y_pred-y_test).mean()\n",
    "### END SOLUTION\n",
    "\n",
    "print(mean_abs_error)"
   ]
  },
  {
   "cell_type": "code",
   "execution_count": null,
   "id": "839114c6",
   "metadata": {
    "nbgrader": {
     "grade": true,
     "grade_id": "cell-202bdbcef9a253f6",
     "locked": true,
     "points": 1,
     "schema_version": 3,
     "solution": false,
     "task": false
    }
   },
   "outputs": [],
   "source": [
    "# Autograding tests - do not edit\n",
    "import numpy as np\n",
    "assert np.round(mean_abs_error) == 3"
   ]
  },
  {
   "cell_type": "markdown",
   "id": "2b7d7c23",
   "metadata": {
    "nbgrader": {
     "grade": false,
     "grade_id": "cell-43060337ff99f294",
     "locked": true,
     "schema_version": 3,
     "solution": false,
     "task": false
    }
   },
   "source": [
    "(8) Produce a scatter plot of the actual vs predicted values for the test sample. The divergence from the 45 degree line is a good indication of how well the model fits.\n",
    "\n",
    "*Hint:* `plt.scatter` should work, or `sns.scatterplot` if you prefer `seaborn`."
   ]
  },
  {
   "cell_type": "code",
   "execution_count": 16,
   "id": "033c0181",
   "metadata": {
    "nbgrader": {
     "grade": true,
     "grade_id": "cell-cf91d321d8120c22",
     "locked": false,
     "points": 0,
     "schema_version": 3,
     "solution": true,
     "task": false
    }
   },
   "outputs": [
    {
     "data": {
      "text/plain": [
       "[<matplotlib.lines.Line2D at 0x7f96e9022eb0>]"
      ]
     },
     "execution_count": 16,
     "metadata": {},
     "output_type": "execute_result"
    },
    {
     "data": {
      "image/png": "[encoded data removed]",
      "text/plain": [
       "<Figure size 432x288 with 1 Axes>"
      ]
     },
     "metadata": {
      "needs_background": "light"
     },
     "output_type": "display_data"
    }
   ],
   "source": [
    "# your code here\n",
    "\n",
    "### BEGIN SOLUTION\n",
    "import matplotlib.pyplot as plt\n",
    "import seaborn as sns\n",
    "ax = sns.scatterplot(x=y_test, y=y_pred)\n",
    "ax.set_xlabel('Actual values')\n",
    "ax.set_ylabel('Predicted values')\n",
    "ax.set_title('Error in predicting Prop 21 vote')\n",
    "ax.plot([20,80],[20,80], color='r')  # add 45 degree line\n",
    "\n",
    "### END SOLUTION\n"
   ]
  },
  {
   "cell_type": "markdown",
   "id": "a5b1fb72",
   "metadata": {
    "nbgrader": {
     "grade": false,
     "grade_id": "cell-f4a7868979483ed5",
     "locked": true,
     "schema_version": 3,
     "solution": false,
     "task": false
    }
   },
   "source": [
    "(9) Finally, plot the importance of each of the 3 predictor variables, in the same way as we did in class.\n",
    "\n",
    "Comment briefly on your interpretation of the results."
   ]
  },
  {
   "cell_type": "code",
   "execution_count": 17,
   "id": "da8efe8f",
   "metadata": {
    "nbgrader": {
     "grade": true,
     "grade_id": "cell-6db4a17c87ddf643",
     "locked": false,
     "points": 0,
     "schema_version": 3,
     "solution": true,
     "task": false
    }
   },
   "outputs": [
    {
     "data": {
      "image/png": "[encoded data removed]",
      "text/plain": [
       "<Figure size 432x288 with 1 Axes>"
      ]
     },
     "metadata": {
      "needs_background": "light"
     },
     "output_type": "display_data"
    }
   ],
   "source": [
    "# your code here\n",
    "\n",
    "### BEGIN SOLUTION\n",
    "# more-or-less directly taken from the docs: https://scikit-learn.org/stable/auto_examples/ensemble/plot_forest_importances.html\n",
    "import numpy as np\n",
    "import matplotlib.pyplot as plt\n",
    "\n",
    "importances = rf.feature_importances_\n",
    "std = np.std([\n",
    "    tree.feature_importances_ for tree in rf.estimators_], axis=0)\n",
    "forest_importances = pd.Series(importances, index=X_train.columns)\n",
    "\n",
    "fig, ax = plt.subplots()\n",
    "forest_importances.plot.bar(yerr=std, ax=ax)\n",
    "ax.set_title(\"Feature importances using MDI\")\n",
    "ax.set_ylabel(\"Mean decrease in impurity\")\n",
    "fig.tight_layout()\n",
    "### END SOLUTION"
   ]
  },
  {
   "cell_type": "markdown",
   "id": "a61901bb",
   "metadata": {
    "nbgrader": {
     "grade": false,
     "grade_id": "cell-ffd460ba8c5df1e3",
     "locked": true,
     "schema_version": 3,
     "solution": false,
     "task": false
    }
   },
   "source": [
    "# Challenge Problem\n",
    "Remember, you need to do at least two of these challenge problems this quarter.\n",
    "\n",
    "This challenge problem is open ended for you to take in a direction that you are most interested in. Here are some suggestions:\n",
    "\n",
    "* Extend the random forests model. To what extent can you improve the predictions by adding more variables and/or adjusting the hyperparameters? Use charts to show the change in mean absolute error.\n",
    "* Use a neural network instead. How much does this improve the predictions? Use charts to compare the predictions to the random forests model.\n",
    "* Examine the geographic distribution of the predictions, through mapping the errors. Where does your model perform best?\n",
    "\n",
    "In all cases, write some brief interpretation in a markdown cell."
   ]
  },
  {
   "cell_type": "code",
   "execution_count": null,
   "id": "10592d6d",
   "metadata": {},
   "outputs": [],
   "source": []
  }
 ],
 "metadata": {
  "celltoolbar": "Create Assignment",
  "kernelspec": {
   "display_name": "Python 3",
   "language": "python",
   "name": "python3"
  },
  "language_info": {
   "codemirror_mode": {
    "name": "ipython",
    "version": 3
   },
   "file_extension": ".py",
   "mimetype": "text/x-python",
   "name": "python",
   "nbconvert_exporter": "python",
   "pygments_lexer": "ipython3",
   "version": "3.8.8"
  }
 },
 "nbformat": 4,
 "nbformat_minor": 5
}
