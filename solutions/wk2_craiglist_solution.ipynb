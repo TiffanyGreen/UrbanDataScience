{
 "cells": [
  {
   "cell_type": "markdown",
   "id": "musical-magnitude",
   "metadata": {
    "nbgrader": {
     "grade": false,
     "grade_id": "cell-8c536a8e249d5f78",
     "locked": true,
     "schema_version": 3,
     "solution": false,
     "task": false
    }
   },
   "source": [
    "## Assignment 2: Web scraping of Craiglists"
   ]
  },
  {
   "cell_type": "markdown",
   "id": "burning-morrison",
   "metadata": {
    "nbgrader": {
     "grade": false,
     "grade_id": "cell-bb8c5cb97d10cf18",
     "locked": true,
     "schema_version": 3,
     "solution": false,
     "task": false
    }
   },
   "source": [
    "Take the code from class as a starting point. Use it to create a `DataFrame` of the first page of posts for LA housing, with the following fields:\n",
    "* price\n",
    "* bedrooms\n",
    "* sqft\n",
    "* neighborhood\n",
    "* url\n",
    "* title\n",
    "\n",
    "Put it in a function. For now, the function won't take any arguments, but you'll change that shortly."
   ]
  },
  {
   "cell_type": "code",
   "execution_count": 28,
   "id": "grave-examination",
   "metadata": {
    "nbgrader": {
     "grade": false,
     "grade_id": "cell-7b51718292222789",
     "locked": false,
     "schema_version": 3,
     "solution": true,
     "task": false
    }
   },
   "outputs": [],
   "source": [
    "import pandas as pd\n",
    "import requests\n",
    "from bs4 import BeautifulSoup\n",
    "\n",
    "def getPosts():\n",
    "    url = 'https://losangeles.craigslist.org/search/lac/hhh'\n",
    "    r = requests.get(url)\n",
    "    # the rest of your code goes here, and should create a dataframe called df\n",
    "    \n",
    "    return df\n",
    "    \n",
    "    \n",
    "    \n",
    "### BEGIN SOLUTION\n",
    "# This is the same code from class, except that we extract the number of bedrooms and square feet\n",
    "# and deal with exceptions (normally missing fields)\n",
    "# note that I went for the try...except route, but I made this specific to each field\n",
    "# so if it fails on one (e.g. price), it populates that variable as None, but retains the rest of the data from that post\n",
    "\n",
    "def getPosts():\n",
    "    url = 'https://losangeles.craigslist.org/search/lac/hhh'\n",
    "    r = requests.get(url)\n",
    "    soup = BeautifulSoup(r.content)\n",
    "    posts = soup.find_all('li', class_= 'result-row')\n",
    "    \n",
    "    postList = [] # empty list that we can add to\n",
    "    for post in posts:\n",
    "        # temporary variables\n",
    "        try:\n",
    "            price = post.find('span', class_= 'result-price').text\n",
    "        except:\n",
    "            price = None\n",
    "        try:\n",
    "            neighborhood = post.find('span', class_= 'result-hood').text\n",
    "        except:\n",
    "            neighborhood = None\n",
    "        try:\n",
    "            housing = post.find('span', class_= 'housing').text\n",
    "            housinglist = housing.split()\n",
    "            bedrooms, sqft = None, None # so that these variables exist, even if we don't find them\n",
    "            for h in housinglist:\n",
    "                if 'br' in h:\n",
    "                    bedrooms = h.replace('br', '')\n",
    "                elif 'ft2' in h:\n",
    "                    sqft = h.replace('ft2','')\n",
    "        except:\n",
    "            bedrooms, sqft = None, None\n",
    "            \n",
    "        # these fields are always present, so no need for try...except\n",
    "        title = post.find('a', class_= 'result-title').text\n",
    "        url = post.find('a', class_= 'result-title')['href']\n",
    "\n",
    "        # now put them in the dictionary, and append to our list\n",
    "        postList.append({'price': price, 'neighborhood':neighborhood, \n",
    "                         'bedrooms':bedrooms, 'sqft':sqft, 'title':title, 'url':url})\n",
    "    df = pd.DataFrame(postList)\n",
    "    return df\n",
    "\n",
    "### END SOLUTION"
   ]
  },
  {
   "cell_type": "code",
   "execution_count": 29,
   "id": "prostate-phenomenon",
   "metadata": {
    "nbgrader": {
     "grade": true,
     "grade_id": "cell-eb60f0aaf768d72f",
     "locked": true,
     "points": 1,
     "schema_version": 3,
     "solution": false,
     "task": false
    }
   },
   "outputs": [],
   "source": [
    "# Autograding tests - do not edit\n",
    "df = getPosts()\n",
    "assert len(df) == 120\n",
    "assert 'bedrooms' in df.columns and 'sqft' in df.columns and 'url' in df.columns\n",
    "assert df.bedrooms.astype(float).sum() >0"
   ]
  },
  {
   "cell_type": "markdown",
   "id": "offshore-musical",
   "metadata": {
    "nbgrader": {
     "grade": false,
     "grade_id": "cell-d16dc22705fe499f",
     "locked": true,
     "schema_version": 3,
     "solution": false,
     "task": false
    }
   },
   "source": [
    "Adapt your function so that it also adds a boolean (True/False) field, `noparking`, that indicates whether the listing includes parking.\n",
    "\n",
    "*Hint: For each post, you'll need to request the full webpage. [Have a look at these examples](https://losangeles.craigslist.org/search/hhh?availabilityMode=0&parking=7) to see what a post with \"no parking\" looks like—bring one or two into Python using `requests`. You shouldn't need to parse with `BeautifulSoup` in this instance.*\n",
    "\n",
    "*Hint: You might need to slow down your loop to keep the site happy. For example, adding `time.sleep(1)` induces a 1-second delay.*\n",
    "\n"
   ]
  },
  {
   "cell_type": "code",
   "execution_count": 30,
   "id": "elegant-amino",
   "metadata": {
    "nbgrader": {
     "grade": false,
     "grade_id": "cell-64862f05633472f1",
     "locked": false,
     "schema_version": 3,
     "solution": true,
     "task": false
    }
   },
   "outputs": [],
   "source": [
    "import time\n",
    "\n",
    "def getPosts():\n",
    "    url = 'https://losangeles.craigslist.org/search/lac/hhh'\n",
    "    r = requests.get(url)\n",
    "    # the rest of your code goes here, and should create a dataframe called df\n",
    "    \n",
    "    return df\n",
    "    \n",
    "    \n",
    "    \n",
    "### BEGIN SOLUTION\n",
    "# This is the same code as above\n",
    "# with the addition of the noparking field\n",
    "\n",
    "def getPosts():\n",
    "    url = 'https://losangeles.craigslist.org/search/lac/hhh'\n",
    "    r = requests.get(url)\n",
    "    soup = BeautifulSoup(r.content)\n",
    "    posts = soup.find_all('li', class_= 'result-row')\n",
    "    \n",
    "    postList = [] # empty list that we can add to\n",
    "    for post in posts:\n",
    "        # temporary variables\n",
    "        try:\n",
    "            price = post.find('span', class_= 'result-price').text\n",
    "        except:\n",
    "            price = None\n",
    "        try:\n",
    "            neighborhood = post.find('span', class_= 'result-hood').text\n",
    "        except:\n",
    "            neighborhood = None\n",
    "        try:\n",
    "            housing = post.find('span', class_= 'housing').text\n",
    "            housinglist = housing.split()\n",
    "            bedrooms, sqft = None, None # so that these variables exist, even if we don't find them\n",
    "            for h in housinglist:\n",
    "                if 'br' in h:\n",
    "                    bedrooms = h.replace('br', '')\n",
    "                elif 'ft2' in h:\n",
    "                    sqft = h.replace('ft2','')\n",
    "        except:\n",
    "            bedrooms, sqft = None, None\n",
    "            \n",
    "        # these fields are always present, so no need for try...except\n",
    "        title = post.find('a', class_= 'result-title').text\n",
    "        url = post.find('a', class_= 'result-title')['href']\n",
    "        \n",
    "        # get the underlying webpage\n",
    "        txt = requests.get(url).text\n",
    "        if 'no parking' in txt.lower():\n",
    "            noparking = True\n",
    "        else:\n",
    "            noparking = False\n",
    "\n",
    "        # now put them in the dictionary, and append to our list\n",
    "        postList.append({'price': price, 'neighborhood':neighborhood, \n",
    "                         'bedrooms':bedrooms, 'sqft':sqft, 'title':title, 'url':url,\n",
    "                         'noparking': noparking})\n",
    "        \n",
    "        # wait 1 second before continuing\n",
    "        time.sleep(1)\n",
    "        \n",
    "    df = pd.DataFrame(postList)\n",
    "    return df\n",
    "\n",
    "### END SOLUTION"
   ]
  },
  {
   "cell_type": "code",
   "execution_count": 31,
   "id": "banner-violence",
   "metadata": {
    "nbgrader": {
     "grade": true,
     "grade_id": "cell-506b32daeeb10958",
     "locked": true,
     "points": 1,
     "schema_version": 3,
     "solution": false,
     "task": false
    }
   },
   "outputs": [],
   "source": [
    "# Autograding tests - do not edit\n",
    "\n",
    "df = getPosts()\n",
    "assert len(df) == 120\n",
    "assert 'noparking' in df.columns\n",
    "assert df.noparking.dtype=='bool'"
   ]
  },
  {
   "cell_type": "markdown",
   "id": "eastern-balloon",
   "metadata": {
    "nbgrader": {
     "grade": false,
     "grade_id": "cell-9284cbc42d577bef",
     "locked": true,
     "schema_version": 3,
     "solution": false,
     "task": false
    }
   },
   "source": [
    "What percentage of your posts have no parking?\n",
    "\n",
    "*Hint: your `noparking` column should be boolean (True / False). A True value evaluates to 1 when taking the mean, and a False value to 0.*"
   ]
  },
  {
   "cell_type": "code",
   "execution_count": 34,
   "id": "infrared-domain",
   "metadata": {
    "nbgrader": {
     "grade": false,
     "grade_id": "cell-65e227d7ddd584fe",
     "locked": false,
     "schema_version": 3,
     "solution": true,
     "task": false
    }
   },
   "outputs": [],
   "source": [
    "pc_noparking = # your line of code here\n",
    "    \n",
    "### BEGIN SOLUTION\n",
    "pc_noparking = df.noparking.mean() * 100\n",
    "### END SOLUTION"
   ]
  },
  {
   "cell_type": "code",
   "execution_count": 35,
   "id": "separate-automation",
   "metadata": {
    "nbgrader": {
     "grade": true,
     "grade_id": "cell-8d49741a85b5c6e9",
     "locked": true,
     "points": 1,
     "schema_version": 3,
     "solution": false,
     "task": false
    }
   },
   "outputs": [],
   "source": [
    "# Autograding tests - do not edit\n",
    "assert pc_noparking>=0 and pc_noparking<=100\n",
    "assert pc_noparking == df.noparking.mean() * 100"
   ]
  },
  {
   "cell_type": "markdown",
   "id": "owned-arrival",
   "metadata": {},
   "source": [
    "Now, let's give your function an argument. We have been looking at LA. Write a function that takes the Craiglist region (e.g. `losangeles`, `sfbay`, `seattle`) and returns the same dataframe. Include the region as a new column, `region`.\n",
    "\n",
    "*Hint: Your function should be almost identical to what you have above. You'll just need to change or add a couple of lines*"
   ]
  },
  {
   "cell_type": "code",
   "execution_count": 38,
   "id": "trying-heavy",
   "metadata": {
    "nbgrader": {
     "grade": false,
     "grade_id": "cell-cc23a1b484e6c324",
     "locked": false,
     "schema_version": 3,
     "solution": true,
     "task": false
    }
   },
   "outputs": [],
   "source": [
    "import time\n",
    "\n",
    "def getPosts(region):\n",
    "\n",
    "    # the rest of your code goes here, and should create a dataframe called df\n",
    "    \n",
    "    return df\n",
    "    \n",
    "    \n",
    "    \n",
    "### BEGIN SOLUTION\n",
    "# This is the same code as above\n",
    "# with the addition of the region field\n",
    "\n",
    "def getPosts(region):\n",
    "    url = 'https://{}.craigslist.org/d/apartments-housing-for-rent/search/apa'.format(region)\n",
    "    r = requests.get(url)\n",
    "    soup = BeautifulSoup(r.content)\n",
    "    posts = soup.find_all('li', class_= 'result-row')\n",
    "    \n",
    "    postList = [] # empty list that we can add to\n",
    "    for post in posts:\n",
    "        # temporary variables\n",
    "        try:\n",
    "            price = post.find('span', class_= 'result-price').text\n",
    "        except:\n",
    "            price = None\n",
    "        try:\n",
    "            neighborhood = post.find('span', class_= 'result-hood').text\n",
    "        except:\n",
    "            neighborhood = None\n",
    "        try:\n",
    "            housing = post.find('span', class_= 'housing').text\n",
    "            housinglist = housing.split()\n",
    "            bedrooms, sqft = None, None # so that these variables exist, even if we don't find them\n",
    "            for h in housinglist:\n",
    "                if 'br' in h:\n",
    "                    bedrooms = h.replace('br', '')\n",
    "                elif 'ft2' in h:\n",
    "                    sqft = h.replace('ft2','')\n",
    "        except:\n",
    "            bedrooms, sqft = None, None\n",
    "            \n",
    "        # these fields are always present, so no need for try...except\n",
    "        title = post.find('a', class_= 'result-title').text\n",
    "        url = post.find('a', class_= 'result-title')['href']\n",
    "        \n",
    "        # get the underlying webpage\n",
    "        txt = requests.get(url).text\n",
    "        if 'no parking' in txt.lower():\n",
    "            noparking = True\n",
    "        else:\n",
    "            noparking = False\n",
    "\n",
    "        # now put them in the dictionary, and append to our list\n",
    "        postList.append({'price': price, 'neighborhood':neighborhood, \n",
    "                         'bedrooms':bedrooms, 'sqft':sqft, 'title':title, 'url':url,\n",
    "                         'noparking': noparking})\n",
    "        \n",
    "        # wait 1 second before continuing\n",
    "        time.sleep(1)\n",
    "    \n",
    "    df = pd.DataFrame(postList)\n",
    "    df['region'] = region # this will fill all rows with the same string\n",
    "\n",
    "    return df\n",
    "\n",
    "### END SOLUTION"
   ]
  },
  {
   "cell_type": "code",
   "execution_count": 39,
   "id": "cheap-scoop",
   "metadata": {
    "nbgrader": {
     "grade": true,
     "grade_id": "cell-bd3cf5edfed35e78",
     "locked": true,
     "points": 1,
     "schema_version": 3,
     "solution": false,
     "task": false
    }
   },
   "outputs": [],
   "source": [
    "# Autograding tests - do not edit\n",
    "df = getPosts('newyork')\n",
    "assert all(df.url.str.contains('newyork'))\n",
    "assert all(df['region'] == 'newyork')"
   ]
  },
  {
   "cell_type": "markdown",
   "id": "aggressive-dance",
   "metadata": {
    "nbgrader": {
     "grade": false,
     "grade_id": "cell-e44451179163313c",
     "locked": true,
     "schema_version": 3,
     "solution": false,
     "task": false
    }
   },
   "source": [
    "Now let's compare two different regions, and visualized some of the results.\n",
    "\n",
    "1. Create a dataframe with the first 120 posts from two regions. *Hint: use the function you already wrote to create two different dataframes, and then combine them with `pd.concat()`.*\n",
    "\n",
    "2. Create a boxplot that shows the distribution of rents in your two cities.\n",
    "\n",
    "3. Create a boxplot that shows the distribution of rents for apartments with and without parking.\n",
    "\n",
    "4. Create a scatterplot that shows how the size of the apartment (sq ft or bedrooms) relates to the price.\n",
    "\n",
    "Optional (but encouraged): explore the `matplotlib` options to clean up your charts. E.g. axis labels, titles, etc. Depending on your data, you might consider dropping outliers too that are clearly a wrong price ($80,000 per month!)."
   ]
  },
  {
   "cell_type": "code",
   "execution_count": 42,
   "id": "tested-improvement",
   "metadata": {
    "nbgrader": {
     "grade": true,
     "grade_id": "cell-678d78633fa2de9e",
     "locked": false,
     "points": 2,
     "schema_version": 3,
     "solution": true,
     "task": false
    }
   },
   "outputs": [
    {
     "name": "stderr",
     "output_type": "stream",
     "text": [
      "<ipython-input-42-01e070eca535>:15: FutureWarning: The default value of regex will change from True to False in a future version. In addition, single character regular expressions will*not* be treated as literal strings when regex=True.\n",
      "  df['price_numeric'] = df.price.str.replace('$','').str.replace(',','').astype(float)\n"
     ]
    },
    {
     "data": {
      "text/plain": [
       "<AxesSubplot:xlabel='br_numeric', ylabel='price_numeric'>"
      ]
     },
     "execution_count": 42,
     "metadata": {},
     "output_type": "execute_result"
    },
    {
     "data": {
      "image/png": "[encoded data removed]",
      "text/plain": [
       "<Figure size 432x288 with 1 Axes>"
      ]
     },
     "metadata": {
      "needs_background": "light"
     },
     "output_type": "display_data"
    },
    {
     "data": {
      "image/png": "[encoded data removed]",
      "text/plain": [
       "<Figure size 432x288 with 1 Axes>"
      ]
     },
     "metadata": {
      "needs_background": "light"
     },
     "output_type": "display_data"
    },
    {
     "data": {
      "image/png": "[encoded data removed]",
      "text/plain": [
       "<Figure size 432x288 with 1 Axes>"
      ]
     },
     "metadata": {
      "needs_background": "light"
     },
     "output_type": "display_data"
    }
   ],
   "source": [
    "# your code here\n",
    "    \n",
    "### BEGIN SOLUTION\n",
    "# This is the same code as above\n",
    "# with the addition of the region field\n",
    "\n",
    "df1 = getPosts('seattle')\n",
    "df2 = getPosts('portland')\n",
    "df = pd.concat([df1, df2])\n",
    "\n",
    "# if you want to be fancy, we could have done this in a single line using a list comprehension\n",
    "#df = pd.concat([getPosts(city) for city in ['seattle', 'portland']])\n",
    "\n",
    "# you might have already done this above\n",
    "df['price_numeric'] = df.price.str.replace('$','').str.replace(',','').astype(float)\n",
    "df['br_numeric'] = df.bedrooms.astype(float)\n",
    "\n",
    "df.boxplot('price_numeric', by='region')\n",
    "df.boxplot('price_numeric', by='noparking')\n",
    "df.plot('br_numeric','price_numeric', kind= 'scatter')\n",
    "\n",
    "### END SOLUTION"
   ]
  },
  {
   "cell_type": "markdown",
   "id": "coordinated-baseball",
   "metadata": {
    "nbgrader": {
     "grade": false,
     "grade_id": "cell-dd799ae10eef6e54",
     "locked": true,
     "schema_version": 3,
     "solution": false,
     "task": false
    }
   },
   "source": [
    "Reflect on this assignment. What did you find most challenging? What problems did you encounter? How might you have gone about it differently the next time? (Write a few bullet points in a markdown cell.)\n",
    "\n",
    "To help me calibrate future assignments, please also indicate about how long it took you to complete."
   ]
  },
  {
   "cell_type": "markdown",
   "id": "outdoor-twist",
   "metadata": {
    "nbgrader": {
     "grade": true,
     "grade_id": "cell-16bdfc272aecea03",
     "locked": false,
     "points": 0,
     "schema_version": 3,
     "solution": true,
     "task": false
    }
   },
   "source": []
  },
  {
   "cell_type": "markdown",
   "id": "coated-breathing",
   "metadata": {
    "nbgrader": {
     "grade": false,
     "grade_id": "cell-d5dc7e0e076ec04c",
     "locked": true,
     "schema_version": 3,
     "solution": false,
     "task": false
    }
   },
   "source": [
    "# Challenge Problem\n",
    "Remember, you need to do at least two of these challenge problems each quarter.\n",
    "\n",
    "For a single city, create a dataframe of the first 1200 posts. *Hint: you'll need to loop over pages, and figure out what the URL is for the second and subsequent page of results.*\n",
    "\n",
    "Clean up the `neighborhood` field so that the names are relatively consistent (e.g. you'll want to change Ktown to Koreatown). Plot the rents by neighborhood (e.g. in a boxplot).\n",
    "\n",
    "Add the latitude and longitude to the dataframe. Convert it to a `point` in `geopandas`, and map your points, perhaps with the color or size of the point indicating the price of each apartment. [Advice on how to do this is here](https://geopandas.org/gallery/create_geopandas_from_pandas.html).\n",
    "\n",
    "                                                                               \n"
   ]
  },
  {
   "cell_type": "code",
   "execution_count": 44,
   "id": "fixed-secondary",
   "metadata": {
    "nbgrader": {
     "grade": true,
     "grade_id": "cell-9f2bbd308ec867db",
     "locked": false,
     "points": 5,
     "schema_version": 3,
     "solution": true,
     "task": false
    }
   },
   "outputs": [],
   "source": [
    "# Your answer here"
   ]
  },
  {
   "cell_type": "code",
   "execution_count": null,
   "id": "black-information",
   "metadata": {},
   "outputs": [],
   "source": []
  }
 ],
 "metadata": {
  "celltoolbar": "Create Assignment",
  "kernelspec": {
   "display_name": "Python 3",
   "language": "python",
   "name": "python3"
  },
  "language_info": {
   "codemirror_mode": {
    "name": "ipython",
    "version": 3
   },
   "file_extension": ".py",
   "mimetype": "text/x-python",
   "name": "python",
   "nbconvert_exporter": "python",
   "pygments_lexer": "ipython3",
   "version": "3.8.8"
  }
 },
 "nbformat": 4,
 "nbformat_minor": 5
}
